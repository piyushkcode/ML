{
 "cells": [
  {
   "cell_type": "code",
   "execution_count": 26,
   "id": "0e9a8123-6f02-4bc7-8965-0c8178ddf249",
   "metadata": {},
   "outputs": [],
   "source": [
    "# Import necessary libraries\n",
    "import pandas as pd\n",
    "from mlxtend.frequent_patterns import apriori, association_rules\n",
    "from mlxtend.preprocessing import TransactionEncoder\n",
    "import seaborn as sns\n",
    "import matplotlib.pyplot as plt"
   ]
  },
  {
   "cell_type": "code",
   "execution_count": 4,
   "id": "d6fb710a-6d80-4084-9e8b-75e626f58b4e",
   "metadata": {},
   "outputs": [
    {
     "data": {
      "text/html": [
       "<div>\n",
       "<style scoped>\n",
       "    .dataframe tbody tr th:only-of-type {\n",
       "        vertical-align: middle;\n",
       "    }\n",
       "\n",
       "    .dataframe tbody tr th {\n",
       "        vertical-align: top;\n",
       "    }\n",
       "\n",
       "    .dataframe thead th {\n",
       "        text-align: right;\n",
       "    }\n",
       "</style>\n",
       "<table border=\"1\" class=\"dataframe\">\n",
       "  <thead>\n",
       "    <tr style=\"text-align: right;\">\n",
       "      <th></th>\n",
       "      <th>TransactionNo</th>\n",
       "      <th>Items</th>\n",
       "      <th>DateTime</th>\n",
       "      <th>Daypart</th>\n",
       "      <th>DayType</th>\n",
       "    </tr>\n",
       "  </thead>\n",
       "  <tbody>\n",
       "    <tr>\n",
       "      <th>0</th>\n",
       "      <td>1</td>\n",
       "      <td>Bread</td>\n",
       "      <td>10/30/2016 9:58</td>\n",
       "      <td>Morning</td>\n",
       "      <td>Weekend</td>\n",
       "    </tr>\n",
       "    <tr>\n",
       "      <th>1</th>\n",
       "      <td>2</td>\n",
       "      <td>Scandinavian</td>\n",
       "      <td>10/30/2016 10:05</td>\n",
       "      <td>Morning</td>\n",
       "      <td>Weekend</td>\n",
       "    </tr>\n",
       "    <tr>\n",
       "      <th>2</th>\n",
       "      <td>2</td>\n",
       "      <td>Scandinavian</td>\n",
       "      <td>10/30/2016 10:05</td>\n",
       "      <td>Morning</td>\n",
       "      <td>Weekend</td>\n",
       "    </tr>\n",
       "    <tr>\n",
       "      <th>3</th>\n",
       "      <td>3</td>\n",
       "      <td>Hot chocolate</td>\n",
       "      <td>10/30/2016 10:07</td>\n",
       "      <td>Morning</td>\n",
       "      <td>Weekend</td>\n",
       "    </tr>\n",
       "    <tr>\n",
       "      <th>4</th>\n",
       "      <td>3</td>\n",
       "      <td>Jam</td>\n",
       "      <td>10/30/2016 10:07</td>\n",
       "      <td>Morning</td>\n",
       "      <td>Weekend</td>\n",
       "    </tr>\n",
       "  </tbody>\n",
       "</table>\n",
       "</div>"
      ],
      "text/plain": [
       "   TransactionNo          Items          DateTime  Daypart  DayType\n",
       "0              1          Bread   10/30/2016 9:58  Morning  Weekend\n",
       "1              2   Scandinavian  10/30/2016 10:05  Morning  Weekend\n",
       "2              2   Scandinavian  10/30/2016 10:05  Morning  Weekend\n",
       "3              3  Hot chocolate  10/30/2016 10:07  Morning  Weekend\n",
       "4              3            Jam  10/30/2016 10:07  Morning  Weekend"
      ]
     },
     "execution_count": 4,
     "metadata": {},
     "output_type": "execute_result"
    }
   ],
   "source": [
    "df = pd.read_csv(r'E:\\ML Dataset\\LP-1 Dataset\\Apriori\\Order3.csv')\n",
    "\n",
    "df.head()"
   ]
  },
  {
   "cell_type": "code",
   "execution_count": 5,
   "id": "19ddf57b-6404-4480-86cf-0f77c2d31762",
   "metadata": {},
   "outputs": [
    {
     "name": "stdout",
     "output_type": "stream",
     "text": [
      "Index(['TransactionNo', 'Items', 'DateTime', 'Daypart', 'DayType'], dtype='object')\n",
      "TransactionNo     int64\n",
      "Items            object\n",
      "DateTime         object\n",
      "Daypart          object\n",
      "DayType          object\n",
      "dtype: object\n"
     ]
    }
   ],
   "source": [
    "\n",
    "print(df.columns)\n",
    "print(df.dtypes)"
   ]
  },
  {
   "cell_type": "code",
   "execution_count": 10,
   "id": "2a56e781-e3a3-4090-86e3-72d9d144c885",
   "metadata": {},
   "outputs": [
    {
     "name": "stdout",
     "output_type": "stream",
     "text": [
      "   TransactionNo          Items\n",
      "0              1          Bread\n",
      "1              2   Scandinavian\n",
      "2              2   Scandinavian\n",
      "3              3  Hot chocolate\n",
      "4              3            Jam\n",
      "<class 'pandas.core.frame.DataFrame'>\n",
      "RangeIndex: 20507 entries, 0 to 20506\n",
      "Data columns (total 2 columns):\n",
      " #   Column         Non-Null Count  Dtype \n",
      "---  ------         --------------  ----- \n",
      " 0   TransactionNo  20507 non-null  int64 \n",
      " 1   Items          20507 non-null  object\n",
      "dtypes: int64(1), object(1)\n",
      "memory usage: 320.6+ KB\n",
      "None\n"
     ]
    }
   ],
   "source": [
    "# Inspect the data structure\n",
    "print(df.head())\n",
    "print(df.info())\n",
    "\n",
    "df = df[['TransactionNo', 'Items']]"
   ]
  },
  {
   "cell_type": "code",
   "execution_count": 15,
   "id": "00129717-2f25-4154-94dd-f93e1c521923",
   "metadata": {},
   "outputs": [
    {
     "name": "stdout",
     "output_type": "stream",
     "text": [
      "\n",
      "One-Hot Encoded Transaction DataFrame:\n",
      "   Adjustment  Afternoon with the baker  Alfajores  Argentina Night  Art Tray  \\\n",
      "0       False                     False      False            False     False   \n",
      "1       False                     False      False            False     False   \n",
      "2       False                     False      False            False     False   \n",
      "3       False                     False      False            False     False   \n",
      "4       False                     False      False            False     False   \n",
      "\n",
      "   Bacon  Baguette  Bakewell  Bare Popcorn  Basket  ...  The BART  The Nomad  \\\n",
      "0  False     False     False         False   False  ...     False      False   \n",
      "1  False     False     False         False   False  ...     False      False   \n",
      "2  False     False     False         False   False  ...     False      False   \n",
      "3  False     False     False         False   False  ...     False      False   \n",
      "4  False     False     False         False   False  ...     False      False   \n",
      "\n",
      "   Tiffin  Toast  Truffles  Tshirt  Valentine's card  Vegan Feast  \\\n",
      "0   False  False     False   False             False        False   \n",
      "1   False  False     False   False             False        False   \n",
      "2   False  False     False   False             False        False   \n",
      "3   False  False     False   False             False        False   \n",
      "4   False  False     False   False             False        False   \n",
      "\n",
      "   Vegan mincepie  Victorian Sponge  \n",
      "0           False             False  \n",
      "1           False             False  \n",
      "2           False             False  \n",
      "3           False             False  \n",
      "4           False             False  \n",
      "\n",
      "[5 rows x 94 columns]\n"
     ]
    }
   ],
   "source": [
    "# Step 2: Generate the List of Transactions\n",
    "# -----------------------------------------\n",
    "# Group items by each transaction to create a list of items bought in each transaction\n",
    "transactions = df.groupby('TransactionNo')['Items'].apply(list).tolist()\n",
    "\n",
    "# Convert transactions into a one-hot encoded DataFrame using TransactionEncoder\n",
    "te = TransactionEncoder()\n",
    "te_ary = te.fit(transactions).transform(transactions)\n",
    "transaction_df = pd.DataFrame(te_ary, columns=te.columns_)\n",
    "\n",
    "# Check the resulting one-hot encoded transaction DataFrame\n",
    "print(\"\\nOne-Hot Encoded Transaction DataFrame:\")\n",
    "print(transaction_df.head())"
   ]
  },
  {
   "cell_type": "code",
   "execution_count": 16,
   "id": "c3eb156e-acda-49bc-9a94-dd54ec923b01",
   "metadata": {},
   "outputs": [
    {
     "name": "stdout",
     "output_type": "stream",
     "text": [
      "\n",
      "Frequent Itemsets:\n",
      "      support                       itemsets\n",
      "0    0.036344                    (Alfajores)\n",
      "1    0.016059                     (Baguette)\n",
      "2    0.005071                     (Bakewell)\n",
      "3    0.327205                        (Bread)\n",
      "4    0.040042                      (Brownie)\n",
      "..        ...                            ...\n",
      "109  0.007184      (Coffee, Sandwich, Bread)\n",
      "110  0.007396           (Coffee, Tea, Bread)\n",
      "111  0.006867  (Cake, Coffee, Hot chocolate)\n",
      "112  0.010037            (Cake, Tea, Coffee)\n",
      "113  0.005388        (Coffee, Tea, Sandwich)\n",
      "\n",
      "[114 rows x 2 columns]\n"
     ]
    }
   ],
   "source": [
    "# Step 3: Train the Apriori Algorithm on the Dataset\n",
    "# ---------------------------------------------------\n",
    "# Apply the Apriori algorithm to find frequent itemsets\n",
    "# Choose a minimum support threshold (e.g., min_support=0.005 for 0.5% frequency)\n",
    "frequent_itemsets = apriori(transaction_df, min_support=0.005, use_colnames=True)\n",
    "\n",
    "# Display the frequent itemsets found by the Apriori algorithm\n",
    "print(\"\\nFrequent Itemsets:\")\n",
    "print(frequent_itemsets)"
   ]
  },
  {
   "cell_type": "code",
   "execution_count": 19,
   "id": "1164efd4-bcb3-4679-982d-3346e8c23da4",
   "metadata": {},
   "outputs": [
    {
     "name": "stdout",
     "output_type": "stream",
     "text": [
      "\n",
      "Association Rules:\n",
      "               antecedents consequents   support  confidence      lift\n",
      "0              (Alfajores)    (Coffee)  0.019651    0.540698  1.130235\n",
      "1                    (Jam)     (Bread)  0.005071    0.338028  1.033076\n",
      "2                 (Pastry)     (Bread)  0.029160    0.338650  1.034977\n",
      "3                (Brownie)    (Coffee)  0.019651    0.490765  1.025860\n",
      "4                   (Cake)    (Coffee)  0.054728    0.526958  1.101515\n",
      "5           (Chicken Stew)    (Coffee)  0.005177    0.398374  0.832732\n",
      "6                   (Coke)    (Coffee)  0.006445    0.331522  0.692989\n",
      "7                (Cookies)    (Coffee)  0.028209    0.518447  1.083723\n",
      "8      (Hearty & Seasonal)    (Coffee)  0.005705    0.540000  1.128777\n",
      "9          (Hot chocolate)    (Coffee)  0.029583    0.507246  1.060311\n",
      "10        (Jammie Dodgers)    (Coffee)  0.006656    0.504000  1.053525\n",
      "11                 (Juice)    (Coffee)  0.020602    0.534247  1.116750\n",
      "12      (Keeping It Local)    (Coffee)  0.005388    0.809524  1.692169\n",
      "13             (Medialuna)    (Coffee)  0.035182    0.569231  1.189878\n",
      "14         (Mineral water)    (Coffee)  0.005600    0.395522  0.826771\n",
      "15                (Muffin)    (Coffee)  0.018806    0.489011  1.022193\n",
      "16                (Pastry)    (Coffee)  0.047544    0.552147  1.154168\n",
      "17                 (Salad)    (Coffee)  0.006550    0.626263  1.309094\n",
      "18              (Sandwich)    (Coffee)  0.038246    0.532353  1.112792\n",
      "19                 (Scone)    (Coffee)  0.018067    0.522936  1.093107\n",
      "20                  (Soup)    (Coffee)  0.015848    0.460123  0.961807\n",
      "21        (Spanish Brunch)    (Coffee)  0.010882    0.598837  1.251766\n",
      "22                   (Tea)    (Coffee)  0.049868    0.349630  0.730840\n",
      "23                (Tiffin)    (Coffee)  0.008452    0.547945  1.145385\n",
      "24                 (Toast)    (Coffee)  0.023666    0.704403  1.472431\n",
      "25              (Truffles)    (Coffee)  0.007501    0.369792  0.772985\n",
      "26           (Cake, Bread)    (Coffee)  0.010037    0.429864  0.898557\n",
      "27        (Cookies, Bread)    (Coffee)  0.005283    0.364964  0.762893\n",
      "28  (Bread, Hot chocolate)    (Coffee)  0.006128    0.456693  0.954637\n",
      "29      (Medialuna, Bread)    (Coffee)  0.006762    0.400000  0.836131\n",
      "30         (Bread, Pastry)    (Coffee)  0.011199    0.384058  0.802807\n",
      "31       (Sandwich, Bread)    (Coffee)  0.007184    0.422360  0.882871\n",
      "32   (Cake, Hot chocolate)    (Coffee)  0.006867    0.601852  1.258067\n",
      "33             (Cake, Tea)    (Coffee)  0.010037    0.422222  0.882582\n",
      "34         (Tea, Sandwich)    (Coffee)  0.005388    0.375000  0.783873\n"
     ]
    }
   ],
   "source": [
    "# Step 4: Generate Association Rules\n",
    "# -----------------------------------\n",
    "# If frequent itemsets are found, generate association rules\n",
    "if not frequent_itemsets.empty:\n",
    "    # Set a minimum confidence threshold for rule generation (e.g., min_confidence=0.3 for 30%)\n",
    "    \n",
    "    rules = association_rules(frequent_itemsets, metric=\"confidence\", min_threshold=0.3, num_itemsets=10)\n",
    "\n",
    "    # Display the generated rules with relevant metrics\n",
    "    print(\"\\nAssociation Rules:\")\n",
    "    print(rules[['antecedents', 'consequents', 'support', 'confidence', 'lift']])\n",
    "else:\n",
    "    print(\"No frequent itemsets found. Try reducing min_support to obtain more itemsets.\")"
   ]
  },
  {
   "cell_type": "code",
   "execution_count": 27,
   "id": "7dd7bfce-2457-4364-accf-e33881e92dc4",
   "metadata": {},
   "outputs": [
    {
     "data": {
      "image/png": "[encoded data removed]",
      "text/plain": [
       "<Figure size 1000x600 with 1 Axes>"
      ]
     },
     "metadata": {},
     "output_type": "display_data"
    }
   ],
   "source": [
    "# Step 5: Visualize the Association Rules\n",
    "# ---------------------------------------\n",
    "# Check if rules DataFrame is not empty before visualizing\n",
    "if not frequent_itemsets.empty:\n",
    "    # Scatter plot to visualize Support vs Confidence with Lift as color and size\n",
    "    plt.figure(figsize=(10, 6))\n",
    "    sns.scatterplot(x='support', y='confidence', size='lift', hue='lift', data=rules, palette='viridis', sizes=(20, 200))\n",
    "    plt.title('Support vs Confidence with Lift as Size')\n",
    "    plt.xlabel('Support')\n",
    "    plt.ylabel('Confidence')\n",
    "    plt.legend(loc='best')\n",
    "    plt.show()\n",
    "else:\n",
    "    print(\"No rules to visualize.\")"
   ]
  },
  {
   "cell_type": "code",
   "execution_count": null,
   "id": "1af7344c-fade-4054-be63-7f5a0f60d7f8",
   "metadata": {},
   "outputs": [],
   "source": []
  }
 ],
 "metadata": {
  "kernelspec": {
   "display_name": "Python 3 (ipykernel)",
   "language": "python",
   "name": "python3"
  },
  "language_info": {
   "codemirror_mode": {
    "name": "ipython",
    "version": 3
   },
   "file_extension": ".py",
   "mimetype": "text/x-python",
   "name": "python",
   "nbconvert_exporter": "python",
   "pygments_lexer": "ipython3",
   "version": "3.12.5"
  }
 },
 "nbformat": 4,
 "nbformat_minor": 5
}
